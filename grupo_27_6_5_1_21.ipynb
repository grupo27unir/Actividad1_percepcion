{
 "cells": [
  {
   "cell_type": "markdown",
   "metadata": {},
   "source": [
    "### Actividad Grupal 1, grupo 27, 6  (20)    10_1_21"
   ]
  },
  {
   "cell_type": "markdown",
   "metadata": {},
   "source": [
    "# Artefactos ScanLine: Introducción"
   ]
  },
  {
   "cell_type": "markdown",
   "metadata": {},
   "source": [
    "Las líneas de escaneo en horizontal (también conocidas como ScanLines) son un artefacto común en la reproducción de imágenes y vídeos en aparatos de TRC (Tubo de Rayos Catódicos, CRT en inglés), otras tecnologías Trinitrón (como algunos motores Sony BVM) y determinados monitores de videojuego arcade.\n",
    "Las ScanLine son el resultado de cómo el TRC proyecta las imágenes: El tubo incluye numerosos píxeles que son dispuestos en series de arrays horizontales, cuyo número depende de la resolución vertical. Los píxeles de cada línea son iluminados a través de electrones que se desplazan por un filamento (cañón de electrones) desde la parte trasera del monitor [1].\n",
    "\n",
    "El objetivo de la actividad es corregir los artefactos en imágenes analógicas (resultado de la fotografía de tales monitores) o digitales (aquellas que se son intencionadamente producidos con el fin de imitar a los dispositivos originales). Para este último se dispone de la señal de salida: es el caso de algunos emuladores de videojuego o animación.\n"
   ]
  },
  {
   "cell_type": "markdown",
   "metadata": {},
   "source": [
    "# Algoritmo Interpretativo-Resolutivo"
   ]
  },
  {
   "cell_type": "markdown",
   "metadata": {},
   "source": [
    "El algoritmo propuesto interpreta y analiza píxeles en sentido horizontal detectando cuándo se producen similitudes de baja iluminación (energía) en función de su repetición en sentido vertical (patrón, que definirá el salto y el grosor de las ScanLine). Es importante la detección del patrón de repetición, ya que las imágenes pueden contener espacios anómalamente oscuros que no deben interpretarse como ScanLine. Por último, cabe destacar que las imágenes analógicas a menudo muestran desaturaciones en la proximidad de las bandas que también deben de ser reconocidas y corregidas; teniendo en cuenta que las imágenes de esta naturaleza con frecuencia contienen otros artefactos que no considerará el algoritmo (efecto barril, rotaciones, etc)."
   ]
  },
  {
   "cell_type": "code",
   "execution_count": 1,
   "metadata": {
    "scrolled": true
   },
   "outputs": [],
   "source": [
    "# Importamos unas librerías básicas\n",
    "import numpy as np\n",
    "import matplotlib.pyplot as plt \n",
    "import skimage\n",
    "from skimage import io\n",
    "from scipy import stats as st\n",
    "import cv2\n",
    "%matplotlib qt"
   ]
  },
  {
   "cell_type": "markdown",
   "metadata": {},
   "source": [
    "### 1.- Cálculo de la Energía por fila y análisis de histograma"
   ]
  },
  {
   "cell_type": "code",
   "execution_count": 2,
   "metadata": {},
   "outputs": [],
   "source": [
    "# Calculamos la energía como la suma de las luminancias de todos los píxeles de una misma fila.\n",
    "def  Calcula_energia(imagen): \n",
    "    m,n,c=imagen.shape\n",
    "    r,g,b=0.2126,0.7152,0.0722\n",
    "    lumi=np.uint8(np.round((r*imagen[:,:,0]+g*imagen[:,:,1]+b*imagen[:,:,2]),0))    #luminancia\n",
    "    energy=np.array([0])\n",
    "    for fila in range (m):\n",
    "        energy =np.append(energy,lumi[fila].sum()//n)\n",
    "    energy=np.delete(energy,0,0)\n",
    "    return energy"
   ]
  },
  {
   "cell_type": "code",
   "execution_count": 3,
   "metadata": {},
   "outputs": [],
   "source": [
    "# Se analiza un histograma mediante la energía de cada fila o línea, que denominaremos \"histolinea\"\n",
    "def hist(energ,figura):\n",
    "    m=len(energ)\n",
    "    histolinea=np.array([[0,0]])\n",
    "    for t in range (m): histolinea=np.append(histolinea,[[t,energ[t]]],axis=0)\n",
    "    histolinea=np.delete(histolinea,0,axis=0)\n",
    "    plt.figure(figura,figsize=(20,10))\n",
    "    plt.bar(histolinea[0:m,0],histolinea[0:m,1], width=1.0,align='center')\n",
    "    plt.title('Energía Líneas') \n",
    "    plt.xticks(np.arange(0, m, 25))\n",
    "    plt.yticks(np.arange(0, 255, 25))\n",
    "    plt.show()\n",
    "    cv2.waitKey(0)\n",
    "    cv2.destroyAllWindows()\n",
    "    return histolinea"
   ]
  },
  {
   "cell_type": "markdown",
   "metadata": {},
   "source": [
    "### 2.- Detección de filas con mínimo local: Posibles ScanLine"
   ]
  },
  {
   "cell_type": "code",
   "execution_count": 4,
   "metadata": {},
   "outputs": [],
   "source": [
    "'''\n",
    "mediante la función detecta, devolvemos las filas que se corresponden con un mínimo local en \n",
    "el array de energía; estas filas corresponderán a posibles scanlines\n",
    "'''\n",
    "def  detecta(energia):\n",
    "    #calculamos un array con las diferencias de energía de cada fila con su anterior:\n",
    "    dife=np.append(energia,[0])-np.append([0],energia)\n",
    "    #para obtene los mínimos locales ponemos a 1 todos los puntos en los que la energía crece\n",
    "    #y ponemos a -1 aquellos en los que la energía decrece\n",
    "    dife=np.array((dife>0).astype(int)-(dife<0).astype(int))\n",
    "    dife=dife+(dife==0).astype(int)*np.append([0],dife[0:-1])\n",
    "    dife=dife+(dife==0).astype(int)*np.append([0],dife[0:-1])\n",
    "    #Mínimos locales son puntos en los que la función pasa de -1 a 1 \n",
    "    #(matemáticamente de pendiente negativa a positiva)\n",
    "    dife=((dife-np.append(dife[1:],[0])==-2).astype(int))\n",
    "    return np.where(dife==1)[0].astype(int)"
   ]
  },
  {
   "cell_type": "markdown",
   "metadata": {},
   "source": [
    "### 3.- Confirmación de ScanLine atendiendo al patrón de repetición: La función Automatica_Deteccion"
   ]
  },
  {
   "cell_type": "markdown",
   "metadata": {},
   "source": [
    "Un scanline está definido por 3 características principales:  \n",
    "1) Una variación de luminosidad en una o más líneas horizontales.  \n",
    "2) Su repetición constante (o salto) a lo largo de toda la imagen cada (n) lineas, o (n, n+1) por ejemplo 7 lineas 8 líneas...  \n",
    "3) El grosor (g) de escanline variable, mínimo 1 línea, siempre grosor g (líneas malas consecutivas) < n (líneas de repetición de scanline).<p>\n",
    "Lo primero es detectar qué líneas responden a mínimos de luminosidad; esto se realiza buscando mínimos locales.\n",
    "El problema es que los mínimos pueden serlo del artefacto, pero también corresponder a mínimos correctos de la original\n",
    "Se necesita pues una función que discierna entre mínimos de scanline y mínimos propios a la imagen (que no hay que tratar).\n",
    "La función “Automática_Detección” trata de hallar el patrón de repetición constante, y si lo encuentra, se lo devuelve a la función “detecta”.\n",
    "Una vez detectado corrige también posibles puntos de silla (mínimos por artefacto que no lo son matemáticamente a causa del gradiente de imagen)."
   ]
  },
  {
   "cell_type": "code",
   "execution_count": 5,
   "metadata": {},
   "outputs": [],
   "source": [
    "def  Automatica_Deteccion(detecta,m,energia,pad): \n",
    "    filas=detecta.shape[0]\n",
    "    inicial=0 # Umbral para un porcentaje del 70% de repetición de  patron para aceptarlo para el conjunto\n",
    "    sm=st.mode(np.append(detecta,[m])-np.append([0],detecta)) # Busca la moda de repetición entre todos los posibles artefactos\n",
    "    apariciones=sm[1][0]   # Cuántas veces se ha repetido ese valor de moda\n",
    "    salto_medio=sm[0][0]   # Cuál es el valor de la moda (nº de líneas entre las que se repite el artefacto)\n",
    "    if apariciones>=len(detectadas)*pad:    # Estipulamos un umbral para decidir cuántas apariciones bastan sobre el total de artefactos\n",
    "        for fila in range(1,filas):         # Ha encontrado un patrón, busca una zona de la imagen (línea) donde el artefacto sea claro\n",
    "            if detecta[fila]==(detecta[fila-1]+salto_medio):\n",
    "                inicial=detecta[fila]       # A partir de esa línea el artefacto es claro, se toma como línea de referencia\n",
    "                break\n",
    "        detecta1=np.array([0])\n",
    "        while inicial>=0:   \n",
    "            inicial-=salto_medio\n",
    "        inicial=inicial+salto_medio        # Determina cual es la primera línea real de la imagen donde empezará a aplicar corrección\n",
    "        for fila in range (inicial,m,salto_medio):   # Crea la matriz automática sobre la que aplicaremos la correción\n",
    "            detecta1=np.append(detecta1,[fila])\n",
    "        while detecta1[0]==0 :detecta1=np.delete(detecta1,0,0) # Elimina primera línea artificial de scanline\n",
    "    else:\n",
    "        detecta1=detecta.copy()           # No ha encontrado un único patrón, se aplicará limpieza individual\n",
    "    return detecta1,salto_medio"
   ]
  },
  {
   "cell_type": "markdown",
   "metadata": {},
   "source": [
    "### 4.- Corrección del artefacto: la función scan_clear"
   ]
  },
  {
   "cell_type": "markdown",
   "metadata": {},
   "source": [
    "Corrige las líneas en las que se ha detectado artefacto.\n",
    "Hasta ahora tiene almacenado el índice de las líneas que son artefactos.\n",
    "Antes de corregirlas calculará cuál es el grosor del artefacto (líneas consecutivas a ser tratadas).\n",
    "Estudia las líneas anteriores y posteriores al artefacto según su variación de energía respecto al máximo valor entre artefactos consecutivos (es decir las pendientes, que a fin de cuentas son la derivada, que simplificamos por una resta).\n",
    "Decide bajo ese criterio cual es el grosor izquierdo y luego cual es el grosor derecho.\n",
    "El grosor total es 1 (la línea dónde se detectó scanline (mínimo)) + grosor izquierdo +grosor derecho.\n",
    "Para facilitar un bucle y todos los índices, se hace un offset del inicio del scanline hasta:\n",
    "detectadas[i] (índice original) -grosor izquierdo (anterior).\n",
    "Cada línea nueva se genera en función de las consideradas buena anterior y buena posterior, de forma ponderada según su distancia a ambas.\n",
    "La última línea es un punto singular, si tiene artefacto, sólo se le aplica una copia de la penúltima."
   ]
  },
  {
   "cell_type": "code",
   "execution_count": 6,
   "metadata": {},
   "outputs": [],
   "source": [
    "def  scan_clear(img,detectadas,ganancia):    # print(\"********* Rutina de limpieza \\n\",end='\\n\\n')\n",
    "    m=img.shape[0]\n",
    "    img_clear= img.copy()\n",
    "    ganancia=1.5 # (pendientes) si valor medio similar al maximo y mucho mayor que mínimo, hay que regular a 0,5\n",
    "    detectadas=np.append(np.append([0],detectadas),[img.shape[0]]) #se usará resta matricial, se introducen 2 líneas artificiales\n",
    "    for i in range(1,len(detectadas)-1):    # Cada artefacto puede tener diferente grosor (nº de líneas malas a ser tratadas)\n",
    "        grosor,grosor_izq,grosor_der=1,0,0               #Determina por separado si hay más lineas a izquierda y derecha (arriba, abajo) que formen parte del scanline\n",
    "        izq=detectadas[i-1]+np.argmax(energia[detectadas[i-1]:detectadas[i]])\n",
    "        m_izq=np.mean(energia[izq:detectadas[i]])  #Devuelve el máximo en el intervalo anterior (izquierdo)\n",
    "        grosor_izq=(energia[izq+1:detectadas[i]]<ganancia*m_izq).astype(int).sum() #Cuántas líneas a su izquierda No llegan al umbral de buenas\n",
    "        der=detectadas[i]+np.argmax(energia[detectadas[i]:detectadas[i+1]])   \n",
    "        m_der=np.mean(energia[detectadas[i]+1:der+1]) #Devuelve el máximo en el intervalo anterior (izquierdo)\n",
    "        grosor_der=(energia[detectadas[i]+1:der]<ganancia*m_der).astype(int).sum() #Cuántas líneas a su derecha No llegan al umbral de buenas\n",
    "        grosor+=grosor_izq+grosor_der       #rep es el grosor del artefacto, cuántas líneas consecutivas deben corregirse\n",
    "        den=grosor+1\n",
    "        fila=detectadas[i]-grosor_izq # Offset de la línea de inicio del artefacto según el valor a la izquierda\n",
    "        for repite in range(grosor): #Se tratarán todas las líneas consecutivas hasta rep=grosor del artecto actual\n",
    "            if (fila+grosor)<m:      #Cada línea dependerá de las buenas anterior y posterior al artefacto, proporcionalmente a su distancia a ambas\n",
    "                img_clear[fila+repite]=((grosor-repite)/(den))*img_clear[fila-1]+((1+repite)/(den))*img_clear[fila+grosor]#Corrige\n",
    "            else:                 # Se basa en:   1= den/den  =>  1= (den-1-repite)/den + (1+repite)/den  serán coeficientes de ponderación\n",
    "                if fila+repite>=m: break  #Puntos singulares (artefacto en línea final) \n",
    "                img_clear[fila+repite]=img_clear[fila-1] #Se ha llegado al final de la matriz, se termina el tratamiento copiando la penúltima\n",
    "    return img_clear,grosor"
   ]
  },
  {
   "cell_type": "code",
   "execution_count": 7,
   "metadata": {},
   "outputs": [],
   "source": [
    "def  imprime(img,img_out,emedia, e_out,salto,grosor):\n",
    "    plt.figure(figsize=(20,10))\n",
    "    plt.subplot(211)\n",
    "    patron=('B'*(salto-grosor)+'M'*(grosor))*2\n",
    "    titulo='Imagen Original: energía media:'+str(emedia)+'  Patrón: '+ str(patron)\n",
    "    plt.title(titulo)\n",
    "    plt.imshow(img)\n",
    "    plt.subplot(212)\n",
    "    plt.title(\"Imagen Corregida: energía media: \"+str(e_out))\n",
    "    plt.imshow(img_out)\n",
    "    plt.show()"
   ]
  },
  {
   "cell_type": "markdown",
   "metadata": {},
   "source": [
    "### 5.- El algoritmo: Tipos de imagen detectadas y Menu Principal"
   ]
  },
  {
   "cell_type": "markdown",
   "metadata": {},
   "source": [
    "A la hora de seleccionar las imágenes hemos dividido en grupos dependiendo de las características de la imagen:\n",
    "\n",
    "#### · Imágenes digitales (estándar):\n",
    "\n",
    "Este bloque de imágenes corresponde a la definición clásica de ScanLine donde aparece una franja\n",
    "de un pixel oscuro que se repite en intervalos de mismo tamaño (grosor 1 y salto 2). Se dispone de la señal de salida, por lo que no se combinan con otros artefactos. Son intencionadamente producidas por emuladores o reproductores.\n",
    "\n",
    "Corresponde a la imagen 1.png.\n",
    "\n",
    "#### · Imágenes digitales (fondo negro):\n",
    "\n",
    "Considerar imágenes con un fondo negro supone un desafío a la hora de evaluar el algoritmo ya que puede malinterpretar patrones de ScanLine donde no los hay. \n",
    "El “fondo negro” era una solución frecuente en videoconsolas con limitada capacidad de computación como la NES, equipo de 8 bits que tenía restricciones de canales de color, de sonido y de sprites (figuras) entre otras. Cada sprite sólo podía contener 4 canales de color (o 3 y uno alfa) y en cada scanline sólo podía aparecer un máximo de 8 sprites al mismo tiempo; de lo contrario se producía un fenómeno conocido como “flicker” (los sprites comenzaban a parpadear) [2]. Para evitarlo, cuando era necesario se mostraba un fondo uniforme negro, reduciendo así el número de canales por ScanLine.\n",
    "\n",
    "Corresponden a las imágenes comprendidas entre 2.png y 6.png inclusive.\n",
    "\n",
    "#### · Imágenes digitales (otras variaciones):\n",
    "\n",
    "Se considera otro bloque de imágenes en los que el efecto ScanLine no se presenta como una línea negra que se repite en función de grosor 1 y salto 2 (sino con otras variaciones). Además, se contemplan casos donde la scanline figura como una línea desaturada con respecto a las que la rodean.\n",
    "\n",
    "Corresponden a las imágenes comprendidas entre 7.png y 10.png inclusive.\n",
    "\n",
    "#### · Imágenes analógicas\n",
    "\n",
    "En este tipo de imágenes observamos que el ancho de la franja del ScanLine es variable, añadiendo en muchas de las imágenes una proximidad al mismo también oscurecida. Son imágenes analógicas las fotografías tomadas a monitores con esta particularidad. Por su naturaleza, pueden presentar otros artefactos en combinación.\n",
    "\n",
    "Corresponden a las imágenes comprendidas entre 11.png y 15.png inclusive.\n"
   ]
  },
  {
   "cell_type": "code",
   "execution_count": 8,
   "metadata": {
    "scrolled": false
   },
   "outputs": [
    {
     "name": "stdout",
     "output_type": "stream",
     "text": [
      "- Introduzca el nombre del archivo con extensión (ejemplo: 1.png)->3.png\n"
     ]
    },
    {
     "name": "stderr",
     "output_type": "stream",
     "text": [
      "C:\\Users\\Alejandro\\anaconda3\\lib\\site-packages\\numpy\\core\\fromnumeric.py:3372: RuntimeWarning: Mean of empty slice.\n",
      "  return _methods._mean(a, axis=axis, dtype=dtype,\n",
      "C:\\Users\\Alejandro\\anaconda3\\lib\\site-packages\\numpy\\core\\_methods.py:170: RuntimeWarning: invalid value encountered in double_scalars\n",
      "  ret = ret.dtype.type(ret / rcount)\n"
     ]
    }
   ],
   "source": [
    "pad, gain =0.7, 1.5  #Porcentaje automático detección  (0:1) //Gain, ganancia limpieza sobre la media izquierda y derecha \n",
    "img_dir = input(\"- Introduzca el nombre del archivo con extensión (ejemplo: 1.png)->\")    \n",
    "img = io.imread(img_dir)\n",
    "energia=Calcula_energia(img)\n",
    "histolinea=hist(energia, 'histolinea IN')\n",
    "detectadas=detecta(energia)\n",
    "detectadas1,salto=Automatica_Deteccion(detectadas,img.shape[0],energia,pad)\n",
    "img_out,grosor=scan_clear(img,detectadas1,gain)\n",
    "io.imsave(\"img_out.png\",img_out)\n",
    "energia_out=Calcula_energia(img_out)\n",
    "histolinea_out=hist(energia_out,'histolinea OUT')\n",
    "imprime(img,img_out,energia.sum()//len(energia),energia_out.sum()//len(energia_out),salto,grosor)"
   ]
  },
  {
   "cell_type": "markdown",
   "metadata": {},
   "source": [
    "### 6.- Conclusiones"
   ]
  },
  {
   "cell_type": "markdown",
   "metadata": {},
   "source": [
    "· Analizando los histogramas de línea éstos muestran similitudes con una señal de radiofrecuencia analógica.<p>\n",
    "· Estudiando los histogramas de las imágenes de entrada y las corregidas, éstas últimas eliminan los peines, extrayéndose la envolvente.<p>\n",
    "· Las imágenes con menos energía corresponden a aquellas con fondos negros o gran concentración de azules y rojos, dado a que su aporte a la luminancia es bajo (7% y 21% respectivamente).<p>\n",
    "· Las imágenes con gran variación de energía desde su zona superior a su zona inferior enmascaran el scanline y dificultan la detección de mínimos locales; no obstante, el algoritmo propuesto está diseñado para detectar esta clase de imagenes."
   ]
  },
  {
   "cell_type": "markdown",
   "metadata": {},
   "source": [
    "## EXTRA: Corrección de artefactos ScanLine en animaciones y vídeos"
   ]
  },
  {
   "cell_type": "markdown",
   "metadata": {},
   "source": [
    "La corrección de artefactos ScanLine en animaciones puede resultar de gran complejidad espacial y temporal si se evalúa el artefacto fotograma por fotograma. Una particularidad de este tipo de artefactos es que se mantiene constante en todos los fotogramas, por lo que, es factible utilizar el algoritmo Interpretativo-Resolutivo en el primer fotograma y emplear el patrón o método resultante para todos los fotogramas (sin re-evaluación, agilizando así el procesamiento).\n",
    "A continuación, se muestra el algoritmo de corrección de animaciones en las que previamente se ha evaluado el primer fotograma y ya se conoce el parámetro \"salto\" y \"grosor\" (2 y 1 respectivamente para este caso).\n",
    "El algoritmo de corrección de animaciones se basa en \"descomposición-corrección-combinación\" sin el paso interpretación que se supone dado. La corrección se agiliza empleando métodos aditivos de \"solape\", es decir, solapando a la imagen original una copia desplazada verticalmente en función del patrón de partida. Es fundamentalmente una operación a nivel de píxel, en función de la altura y distanciamiento de las bandas."
   ]
  },
  {
   "cell_type": "code",
   "execution_count": 10,
   "metadata": {},
   "outputs": [
    {
     "name": "stdout",
     "output_type": "stream",
     "text": [
      "- Introduzca el nombre del archivo con extensión (ejemplo: a.gif)->c.gif\n",
      "- Proceso en curso... Por favor, espere.\n",
      "- Proceso terminado. Consulte el archivo 'gifcorregido_(nombre)' en el directorio raíz.\n"
     ]
    }
   ],
   "source": [
    "import cv2\n",
    "import numpy as np\n",
    "import os\n",
    "import re\n",
    "from PIL import Image, GifImagePlugin\n",
    "#1.- DESCOMPONE EL GIF INTRODUCIDO EN FOTOGRAMAS (Imágenes.bmp)\n",
    "archivo = input(\"- Introduzca el nombre del archivo con extensión (ejemplo: a.gif)->\")\n",
    "print(\"- Proceso en curso... Por favor, espere.\")\n",
    "animacion = Image.open(archivo)        \n",
    "for fotograma in range(0,animacion.n_frames):\n",
    "    animacion.seek(fotograma)\n",
    "    animacion.save(str(fotograma) + \".bmp\")            \n",
    "#2.- CORRIGE LOS FOTOGRAMAS MEDIANTE \"SOLAPE\" (Según la evaluación del algoritmo genérico)\n",
    "for fotograma in os.listdir():\n",
    "    if fotograma.endswith(\".bmp\"):\n",
    "        #2.1.- Capa original:\n",
    "        original = cv2.imread(fotograma)\n",
    "        original = np.array(original,np.int32)       \n",
    "        #2.2.- Capa desfasada en función del parámetro \"salto\" y \"grosor\":\n",
    "        desfase = np.array(np.delete(original, 0, 0)) \n",
    "        desfase = np.append(desfase, np.array([desfase[-1]]), axis=0)        \n",
    "        #2.3.- Solape resultante:\n",
    "        solape = np.add(original, desfase)\n",
    "        solape = np.clip(solape, 0, 255)\n",
    "        solape = np.array(np.delete(solape, -1, 0))       \n",
    "        #2.4.- Sobrescribe cada fotograma con la corrección\n",
    "        cv2.imwrite(fotograma, solape)       \n",
    "#3.- COMBINA LOS FOTOGRAMAS CORREGIDOS     \n",
    "#3.1.- Genera una lista con todos los fotogramas png del directorio\n",
    "#      los pone en orden natural para evitar orden alfabético (1,10,11..19,2,20,21):\n",
    "lista=[]\n",
    "for fotograma in os.listdir():\n",
    "    if fotograma.endswith(\".bmp\"):\n",
    "        lista.append(fotograma) \n",
    "def texto_a_int(texto):\n",
    "    return int(texto) if texto.isdigit() else texto\n",
    "def texto_natural(text):\n",
    "    return [ texto_a_int(letra) for letra in re.split('(\\d+)',text) ]\n",
    "lista.sort(key=texto_natural)\n",
    "#3.2.- Guarda un gif combinando todos los fotogramas de la lista:\n",
    "lista_img=[]\n",
    "for n_lista, imagen in enumerate(lista):\n",
    "    n_lista = Image.open(imagen)\n",
    "    lista_img.append(n_lista) \n",
    "lista_img[0].save(\"gifcorregido_\"+archivo, save_all=True, append_images=lista_img[1:], loop=0)\n",
    "#4.- ELIMINA LOS .bmp, LIMPIANDO EL DIRECTORIO Y DEJANDO, ÚNICAMENTE, EL GIF CORREGIDO\n",
    "for fotograma in os.listdir():\n",
    "    if fotograma.endswith(\".bmp\"):\n",
    "        os.remove(fotograma)\n",
    "print(\"- Proceso terminado. Consulte el archivo 'gifcorregido_(nombre)' en el directorio raíz.\")"
   ]
  },
  {
   "cell_type": "markdown",
   "metadata": {},
   "source": [
    "### Referencia bibliográfica"
   ]
  },
  {
   "cell_type": "markdown",
   "metadata": {},
   "source": [
    "[1]\tG. Wiesen (17 de diciembre de 2020). What is a Scan Line? https://easytechjunkie.com  \n",
    "[2]\tJ.McDonald. Why Do NES Games Flicker – A Visual Explanation. https://retrogamestart.com/\n"
   ]
  }
 ],
 "metadata": {
  "kernelspec": {
   "display_name": "Python 3",
   "language": "python",
   "name": "python3"
  },
  "language_info": {
   "codemirror_mode": {
    "name": "ipython",
    "version": 3
   },
   "file_extension": ".py",
   "mimetype": "text/x-python",
   "name": "python",
   "nbconvert_exporter": "python",
   "pygments_lexer": "ipython3",
   "version": "3.8.5"
  }
 },
 "nbformat": 4,
 "nbformat_minor": 2
}
